{
 "cells": [
  {
   "cell_type": "code",
   "execution_count": 19,
   "outputs": [],
   "source": [
    "import pandas as pd\n",
    "import numpy as np"
   ],
   "metadata": {
    "collapsed": false,
    "pycharm": {
     "name": "#%%\n"
    }
   }
  },
  {
   "cell_type": "code",
   "execution_count": 20,
   "outputs": [
    {
     "name": "stdout",
     "output_type": "stream",
     "text": [
      "Using matplotlib backend: TkAgg\n"
     ]
    }
   ],
   "source": [
    "%matplotlib\n",
    "import matplotlib.pyplot as plt"
   ],
   "metadata": {
    "collapsed": false,
    "pycharm": {
     "name": "#%%\n"
    }
   }
  },
  {
   "cell_type": "code",
   "execution_count": null,
   "outputs": [],
   "source": [
    "%matplotlib inline"
   ],
   "metadata": {
    "collapsed": false,
    "pycharm": {
     "name": "#%%\n",
     "is_executing": true
    }
   }
  },
  {
   "cell_type": "code",
   "execution_count": 8,
   "outputs": [
    {
     "data": {
      "text/plain": "                              Первичная формулировка Внешняя / Внутренняя  \\\n0  На старте проекта оценку делали на примере КАЭ...              Внешняя   \n1                                        Проблемма 1           Внутренняя   \n2                                         Проблема 2           Внутренняя   \n3                                         Проблема 3              Внешняя   \n4                                         Проблема 4           Внутренняя   \n5                                         Проблема 5              Внешняя   \n6                                         Проблема 6           Внутренняя   \n7                                         Проблема 7              Внешняя   \n8                                         Проблема 8              Внешняя   \n\n  Классификация проблеммы Бизнесс процесс Вид биснесс процесса З.Г.Д.  \n0              управление                                              \n1              менеджмент                                              \n2               основной                                               \n3               основной                                               \n4               основной                                               \n5              менеджмент                                              \n6              менеджмент                                              \n7              менеджмент                                              \n8              управление                                              ",
      "text/html": "<div>\n<style scoped>\n    .dataframe tbody tr th:only-of-type {\n        vertical-align: middle;\n    }\n\n    .dataframe tbody tr th {\n        vertical-align: top;\n    }\n\n    .dataframe thead th {\n        text-align: right;\n    }\n</style>\n<table border=\"1\" class=\"dataframe\">\n  <thead>\n    <tr style=\"text-align: right;\">\n      <th></th>\n      <th>Первичная формулировка</th>\n      <th>Внешняя / Внутренняя</th>\n      <th>Классификация проблеммы</th>\n      <th>Бизнесс процесс</th>\n      <th>Вид биснесс процесса</th>\n      <th>З.Г.Д.</th>\n    </tr>\n  </thead>\n  <tbody>\n    <tr>\n      <th>0</th>\n      <td>На старте проекта оценку делали на примере КАЭ...</td>\n      <td>Внешняя</td>\n      <td>управление</td>\n      <td></td>\n      <td></td>\n      <td></td>\n    </tr>\n    <tr>\n      <th>1</th>\n      <td>Проблемма 1</td>\n      <td>Внутренняя</td>\n      <td>менеджмент</td>\n      <td></td>\n      <td></td>\n      <td></td>\n    </tr>\n    <tr>\n      <th>2</th>\n      <td>Проблема 2</td>\n      <td>Внутренняя</td>\n      <td>основной</td>\n      <td></td>\n      <td></td>\n      <td></td>\n    </tr>\n    <tr>\n      <th>3</th>\n      <td>Проблема 3</td>\n      <td>Внешняя</td>\n      <td>основной</td>\n      <td></td>\n      <td></td>\n      <td></td>\n    </tr>\n    <tr>\n      <th>4</th>\n      <td>Проблема 4</td>\n      <td>Внутренняя</td>\n      <td>основной</td>\n      <td></td>\n      <td></td>\n      <td></td>\n    </tr>\n    <tr>\n      <th>5</th>\n      <td>Проблема 5</td>\n      <td>Внешняя</td>\n      <td>менеджмент</td>\n      <td></td>\n      <td></td>\n      <td></td>\n    </tr>\n    <tr>\n      <th>6</th>\n      <td>Проблема 6</td>\n      <td>Внутренняя</td>\n      <td>менеджмент</td>\n      <td></td>\n      <td></td>\n      <td></td>\n    </tr>\n    <tr>\n      <th>7</th>\n      <td>Проблема 7</td>\n      <td>Внешняя</td>\n      <td>менеджмент</td>\n      <td></td>\n      <td></td>\n      <td></td>\n    </tr>\n    <tr>\n      <th>8</th>\n      <td>Проблема 8</td>\n      <td>Внешняя</td>\n      <td>управление</td>\n      <td></td>\n      <td></td>\n      <td></td>\n    </tr>\n  </tbody>\n</table>\n</div>"
     },
     "execution_count": 8,
     "metadata": {},
     "output_type": "execute_result"
    }
   ],
   "source": [
    "df = pd.read_csv('test.csv')\n",
    "df = df.fillna(' ')\n",
    "df"
   ],
   "metadata": {
    "collapsed": false,
    "pycharm": {
     "name": "#%%\n"
    }
   }
  },
  {
   "cell_type": "code",
   "source": [
    "mask = df.iloc[:,1] == 'Внешняя'\n",
    "df1 = df[mask]\n",
    "df1"
   ],
   "metadata": {
    "collapsed": false,
    "pycharm": {
     "name": "#%%\n"
    }
   },
   "execution_count": 14,
   "outputs": [
    {
     "data": {
      "text/plain": "                              Первичная формулировка Внешняя / Внутренняя  \\\n0  На старте проекта оценку делали на примере КАЭ...              Внешняя   \n3                                         Проблема 3              Внешняя   \n5                                         Проблема 5              Внешняя   \n7                                         Проблема 7              Внешняя   \n8                                         Проблема 8              Внешняя   \n\n  Классификация проблеммы Бизнесс процесс Вид биснесс процесса З.Г.Д.  \n0              управление                                              \n3               основной                                               \n5              менеджмент                                              \n7              менеджмент                                              \n8              управление                                              ",
      "text/html": "<div>\n<style scoped>\n    .dataframe tbody tr th:only-of-type {\n        vertical-align: middle;\n    }\n\n    .dataframe tbody tr th {\n        vertical-align: top;\n    }\n\n    .dataframe thead th {\n        text-align: right;\n    }\n</style>\n<table border=\"1\" class=\"dataframe\">\n  <thead>\n    <tr style=\"text-align: right;\">\n      <th></th>\n      <th>Первичная формулировка</th>\n      <th>Внешняя / Внутренняя</th>\n      <th>Классификация проблеммы</th>\n      <th>Бизнесс процесс</th>\n      <th>Вид биснесс процесса</th>\n      <th>З.Г.Д.</th>\n    </tr>\n  </thead>\n  <tbody>\n    <tr>\n      <th>0</th>\n      <td>На старте проекта оценку делали на примере КАЭ...</td>\n      <td>Внешняя</td>\n      <td>управление</td>\n      <td></td>\n      <td></td>\n      <td></td>\n    </tr>\n    <tr>\n      <th>3</th>\n      <td>Проблема 3</td>\n      <td>Внешняя</td>\n      <td>основной</td>\n      <td></td>\n      <td></td>\n      <td></td>\n    </tr>\n    <tr>\n      <th>5</th>\n      <td>Проблема 5</td>\n      <td>Внешняя</td>\n      <td>менеджмент</td>\n      <td></td>\n      <td></td>\n      <td></td>\n    </tr>\n    <tr>\n      <th>7</th>\n      <td>Проблема 7</td>\n      <td>Внешняя</td>\n      <td>менеджмент</td>\n      <td></td>\n      <td></td>\n      <td></td>\n    </tr>\n    <tr>\n      <th>8</th>\n      <td>Проблема 8</td>\n      <td>Внешняя</td>\n      <td>управление</td>\n      <td></td>\n      <td></td>\n      <td></td>\n    </tr>\n  </tbody>\n</table>\n</div>"
     },
     "execution_count": 14,
     "metadata": {},
     "output_type": "execute_result"
    }
   ]
  },
  {
   "cell_type": "code",
   "execution_count": 18,
   "outputs": [
    {
     "data": {
      "text/plain": "управление    2\nменеджмент    2\nосновной      1\nName: Классификация проблеммы, dtype: int64"
     },
     "execution_count": 18,
     "metadata": {},
     "output_type": "execute_result"
    }
   ],
   "source": [
    "plot_ser = df1.iloc[:, 2].value_counts()\n",
    "plot_ser"
   ],
   "metadata": {
    "collapsed": false,
    "pycharm": {
     "name": "#%%\n"
    }
   }
  },
  {
   "cell_type": "code",
   "execution_count": 25,
   "outputs": [
    {
     "data": {
      "text/plain": "<AxesSubplot:ylabel='Классификация проблеммы'>"
     },
     "execution_count": 25,
     "metadata": {},
     "output_type": "execute_result"
    }
   ],
   "source": [
    "plt.figure()\n",
    "plot_ser.plot(kind='pie')"
   ],
   "metadata": {
    "collapsed": false,
    "pycharm": {
     "name": "#%%\n"
    }
   }
  },
  {
   "cell_type": "code",
   "execution_count": 2,
   "outputs": [
    {
     "data": {
      "text/plain": "['c', 'dsd', 'dsds', 'dsd']"
     },
     "execution_count": 2,
     "metadata": {},
     "output_type": "execute_result"
    }
   ],
   "source": [
    "str.split('c\\dsd\\dsds\\dsd', '\\\\')\n",
    "\n",
    "\n",
    "\n",
    "\n",
    "\n",
    "\n",
    "\n",
    "\n",
    "\n",
    "\n",
    "\n"
   ],
   "metadata": {
    "collapsed": false,
    "pycharm": {
     "name": "#%%\n"
    }
   }
  }
 ],
 "metadata": {
  "kernelspec": {
   "display_name": "Python 3",
   "language": "python",
   "name": "python3"
  },
  "language_info": {
   "codemirror_mode": {
    "name": "ipython",
    "version": 2
   },
   "file_extension": ".py",
   "mimetype": "text/x-python",
   "name": "python",
   "nbconvert_exporter": "python",
   "pygments_lexer": "ipython2",
   "version": "2.7.6"
  }
 },
 "nbformat": 4,
 "nbformat_minor": 0
}